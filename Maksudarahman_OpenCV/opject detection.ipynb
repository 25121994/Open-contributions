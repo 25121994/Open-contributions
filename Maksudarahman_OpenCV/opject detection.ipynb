import cv2
import imutils
from matplotlib import pyplot as plt
vid = cv2.VideoCapture('Object ‐ Made with Clipchamp.mp4')
while True: 
     
    ret, frames = vid.read() 
    gray = cv2.cvtColor(frames, cv2.COLOR_BGR2GRAY) 
    Cars = cars.detectMultiScale(gray, 1.1, 1) 
    for (x,y,w,h) in Cars: 
        cv2.rectangle(frames,(x,y),(x+w,y+h),(0,0,255),2) 
        cv2.imshow('video', frames) 
    if cv2.waitKey(33) == ord("k"): 
        break
  
cv2.destroyAllWindows()
image = cv2.imread('image.png')
fih = cv2.HOGDescriptor() 
fih.setSVMDetector(cv2.HOGDescriptor_getDefaultPeopleDetector())
regions,_ = fih.detectMultiScale(image,winStride=(4, 4),padding=(4, 4),scale=1.05)

for (x, y, w, h) in regions: 
    cv2.rectangle(image, (x, y), (x + w, y + h),(0, 0, 255), 2)
