{
  "nbformat": 4,
  "nbformat_minor": 0,
  "metadata": {
    "colab": {
      "name": "Camera.ipynb",
      "provenance": []
    },
    "kernelspec": {
      "name": "python3",
      "display_name": "Python 3"
    }
  },
  "cells": [
    {
      "cell_type": "code",
      "metadata": {
        "id": "TgDdpSTzfpha",
        "colab_type": "code",
        "colab": {}
      },
      "source": [
        "import numpy as np\n",
        "import cv2\n",
        "import imutils\n",
        "\n",
        "\n",
        "class Camera:\n",
        "\n",
        "    @staticmethod\n",
        "    def start_capturing(stream_path):\n",
        "        cap = cv2.VideoCapture(stream_path)\n",
        "\n",
        "        while (cap.isOpened()):\n",
        "            ret, frame = cap.read()\n",
        "\n",
        "            gray = cv2.cvtColor(frame, cv2.COLOR_BGR2GRAY)\n",
        "\n",
        "            cv2.imshow('frame', gray)\n",
        "            if cv2.waitKey(1) & 0xFF == ord('q'):\n",
        "                break\n",
        "\n",
        "        cap.release()\n",
        "        cv2.destroyAllWindows()"
      ],
      "execution_count": 1,
      "outputs": []
    }
  ]
}